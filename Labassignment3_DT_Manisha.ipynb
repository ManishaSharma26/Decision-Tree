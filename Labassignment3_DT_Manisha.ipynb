{
  "nbformat": 4,
  "nbformat_minor": 0,
  "metadata": {
    "colab": {
      "name": "Labassignment3_DT_Manisha.ipynb",
      "provenance": [],
      "collapsed_sections": []
    },
    "kernelspec": {
      "name": "python3",
      "display_name": "Python 3"
    },
    "language_info": {
      "name": "python"
    }
  },
  "cells": [
    {
      "cell_type": "code",
      "execution_count": 1,
      "metadata": {
        "id": "DrxuoDG8DLiG"
      },
      "outputs": [],
      "source": [
        "import numpy as np\n",
        "import pandas as pd\n",
        "import matplotlib.pyplot as plt\n",
        "from sklearn import preprocessing\n",
        "from sklearn import tree\n",
        "import pydotplus\n",
        "from sklearn.tree import DecisionTreeClassifier\n",
        "import matplotlib.pyplot as plt\n",
        "import matplotlib.image as pltimg\n",
        "from sklearn.model_selection import train_test_split\n",
        "\n",
        "from sklearn.metrics import accuracy_score"
      ]
    },
    {
      "cell_type": "code",
      "source": [
        "# load dataset\n",
        "df = pd.read_csv(\"https://archive.ics.uci.edu/ml/machine-learning-databases/car/car.data\")\n",
        "columns= ['buying','maint','doors','persons','lug_boot','safety','classes']\n",
        "\n",
        "# Assign names to Columns\n",
        "df.columns = ['buying','maint','doors','persons','lug_boot','safety','classes']\n",
        "df.head()"
      ],
      "metadata": {
        "colab": {
          "base_uri": "https://localhost:8080/",
          "height": 206
        },
        "id": "1eWM0v9XDQkN",
        "outputId": "d5f9775c-600b-4834-8ef6-6c33caa77b35"
      },
      "execution_count": 2,
      "outputs": [
        {
          "output_type": "execute_result",
          "data": {
            "text/html": [
              "\n",
              "  <div id=\"df-32bbc120-436b-4288-9df4-a8f8da75849a\">\n",
              "    <div class=\"colab-df-container\">\n",
              "      <div>\n",
              "<style scoped>\n",
              "    .dataframe tbody tr th:only-of-type {\n",
              "        vertical-align: middle;\n",
              "    }\n",
              "\n",
              "    .dataframe tbody tr th {\n",
              "        vertical-align: top;\n",
              "    }\n",
              "\n",
              "    .dataframe thead th {\n",
              "        text-align: right;\n",
              "    }\n",
              "</style>\n",
              "<table border=\"1\" class=\"dataframe\">\n",
              "  <thead>\n",
              "    <tr style=\"text-align: right;\">\n",
              "      <th></th>\n",
              "      <th>buying</th>\n",
              "      <th>maint</th>\n",
              "      <th>doors</th>\n",
              "      <th>persons</th>\n",
              "      <th>lug_boot</th>\n",
              "      <th>safety</th>\n",
              "      <th>classes</th>\n",
              "    </tr>\n",
              "  </thead>\n",
              "  <tbody>\n",
              "    <tr>\n",
              "      <th>0</th>\n",
              "      <td>vhigh</td>\n",
              "      <td>vhigh</td>\n",
              "      <td>2</td>\n",
              "      <td>2</td>\n",
              "      <td>small</td>\n",
              "      <td>med</td>\n",
              "      <td>unacc</td>\n",
              "    </tr>\n",
              "    <tr>\n",
              "      <th>1</th>\n",
              "      <td>vhigh</td>\n",
              "      <td>vhigh</td>\n",
              "      <td>2</td>\n",
              "      <td>2</td>\n",
              "      <td>small</td>\n",
              "      <td>high</td>\n",
              "      <td>unacc</td>\n",
              "    </tr>\n",
              "    <tr>\n",
              "      <th>2</th>\n",
              "      <td>vhigh</td>\n",
              "      <td>vhigh</td>\n",
              "      <td>2</td>\n",
              "      <td>2</td>\n",
              "      <td>med</td>\n",
              "      <td>low</td>\n",
              "      <td>unacc</td>\n",
              "    </tr>\n",
              "    <tr>\n",
              "      <th>3</th>\n",
              "      <td>vhigh</td>\n",
              "      <td>vhigh</td>\n",
              "      <td>2</td>\n",
              "      <td>2</td>\n",
              "      <td>med</td>\n",
              "      <td>med</td>\n",
              "      <td>unacc</td>\n",
              "    </tr>\n",
              "    <tr>\n",
              "      <th>4</th>\n",
              "      <td>vhigh</td>\n",
              "      <td>vhigh</td>\n",
              "      <td>2</td>\n",
              "      <td>2</td>\n",
              "      <td>med</td>\n",
              "      <td>high</td>\n",
              "      <td>unacc</td>\n",
              "    </tr>\n",
              "  </tbody>\n",
              "</table>\n",
              "</div>\n",
              "      <button class=\"colab-df-convert\" onclick=\"convertToInteractive('df-32bbc120-436b-4288-9df4-a8f8da75849a')\"\n",
              "              title=\"Convert this dataframe to an interactive table.\"\n",
              "              style=\"display:none;\">\n",
              "        \n",
              "  <svg xmlns=\"http://www.w3.org/2000/svg\" height=\"24px\"viewBox=\"0 0 24 24\"\n",
              "       width=\"24px\">\n",
              "    <path d=\"M0 0h24v24H0V0z\" fill=\"none\"/>\n",
              "    <path d=\"M18.56 5.44l.94 2.06.94-2.06 2.06-.94-2.06-.94-.94-2.06-.94 2.06-2.06.94zm-11 1L8.5 8.5l.94-2.06 2.06-.94-2.06-.94L8.5 2.5l-.94 2.06-2.06.94zm10 10l.94 2.06.94-2.06 2.06-.94-2.06-.94-.94-2.06-.94 2.06-2.06.94z\"/><path d=\"M17.41 7.96l-1.37-1.37c-.4-.4-.92-.59-1.43-.59-.52 0-1.04.2-1.43.59L10.3 9.45l-7.72 7.72c-.78.78-.78 2.05 0 2.83L4 21.41c.39.39.9.59 1.41.59.51 0 1.02-.2 1.41-.59l7.78-7.78 2.81-2.81c.8-.78.8-2.07 0-2.86zM5.41 20L4 18.59l7.72-7.72 1.47 1.35L5.41 20z\"/>\n",
              "  </svg>\n",
              "      </button>\n",
              "      \n",
              "  <style>\n",
              "    .colab-df-container {\n",
              "      display:flex;\n",
              "      flex-wrap:wrap;\n",
              "      gap: 12px;\n",
              "    }\n",
              "\n",
              "    .colab-df-convert {\n",
              "      background-color: #E8F0FE;\n",
              "      border: none;\n",
              "      border-radius: 50%;\n",
              "      cursor: pointer;\n",
              "      display: none;\n",
              "      fill: #1967D2;\n",
              "      height: 32px;\n",
              "      padding: 0 0 0 0;\n",
              "      width: 32px;\n",
              "    }\n",
              "\n",
              "    .colab-df-convert:hover {\n",
              "      background-color: #E2EBFA;\n",
              "      box-shadow: 0px 1px 2px rgba(60, 64, 67, 0.3), 0px 1px 3px 1px rgba(60, 64, 67, 0.15);\n",
              "      fill: #174EA6;\n",
              "    }\n",
              "\n",
              "    [theme=dark] .colab-df-convert {\n",
              "      background-color: #3B4455;\n",
              "      fill: #D2E3FC;\n",
              "    }\n",
              "\n",
              "    [theme=dark] .colab-df-convert:hover {\n",
              "      background-color: #434B5C;\n",
              "      box-shadow: 0px 1px 3px 1px rgba(0, 0, 0, 0.15);\n",
              "      filter: drop-shadow(0px 1px 2px rgba(0, 0, 0, 0.3));\n",
              "      fill: #FFFFFF;\n",
              "    }\n",
              "  </style>\n",
              "\n",
              "      <script>\n",
              "        const buttonEl =\n",
              "          document.querySelector('#df-32bbc120-436b-4288-9df4-a8f8da75849a button.colab-df-convert');\n",
              "        buttonEl.style.display =\n",
              "          google.colab.kernel.accessAllowed ? 'block' : 'none';\n",
              "\n",
              "        async function convertToInteractive(key) {\n",
              "          const element = document.querySelector('#df-32bbc120-436b-4288-9df4-a8f8da75849a');\n",
              "          const dataTable =\n",
              "            await google.colab.kernel.invokeFunction('convertToInteractive',\n",
              "                                                     [key], {});\n",
              "          if (!dataTable) return;\n",
              "\n",
              "          const docLinkHtml = 'Like what you see? Visit the ' +\n",
              "            '<a target=\"_blank\" href=https://colab.research.google.com/notebooks/data_table.ipynb>data table notebook</a>'\n",
              "            + ' to learn more about interactive tables.';\n",
              "          element.innerHTML = '';\n",
              "          dataTable['output_type'] = 'display_data';\n",
              "          await google.colab.output.renderOutput(dataTable, element);\n",
              "          const docLink = document.createElement('div');\n",
              "          docLink.innerHTML = docLinkHtml;\n",
              "          element.appendChild(docLink);\n",
              "        }\n",
              "      </script>\n",
              "    </div>\n",
              "  </div>\n",
              "  "
            ],
            "text/plain": [
              "  buying  maint doors persons lug_boot safety classes\n",
              "0  vhigh  vhigh     2       2    small    med   unacc\n",
              "1  vhigh  vhigh     2       2    small   high   unacc\n",
              "2  vhigh  vhigh     2       2      med    low   unacc\n",
              "3  vhigh  vhigh     2       2      med    med   unacc\n",
              "4  vhigh  vhigh     2       2      med   high   unacc"
            ]
          },
          "metadata": {},
          "execution_count": 2
        }
      ]
    },
    {
      "cell_type": "code",
      "source": [
        "#to see dimensions of data frame\n",
        "df.shape"
      ],
      "metadata": {
        "colab": {
          "base_uri": "https://localhost:8080/"
        },
        "id": "TaY4JDjJDSjN",
        "outputId": "5ddd745f-4b23-4183-a7f6-5146af3bfc95"
      },
      "execution_count": 3,
      "outputs": [
        {
          "output_type": "execute_result",
          "data": {
            "text/plain": [
              "(1727, 7)"
            ]
          },
          "metadata": {},
          "execution_count": 3
        }
      ]
    },
    {
      "cell_type": "code",
      "source": [
        "#creating labelEncoder and seprating dataset in to X and Y\n",
        "le = preprocessing.LabelEncoder()\n",
        "data=df.values\n",
        "X=data[:,0:6]\n",
        "Y=data[:,6]\n",
        "for i in range(6):\n",
        "  X[:,i]=le.fit_transform(X[:,i])\n",
        "Y=le.fit_transform(Y)\n",
        "print(X)\n",
        "print(Y)"
      ],
      "metadata": {
        "colab": {
          "base_uri": "https://localhost:8080/"
        },
        "id": "V5yHDPksDXer",
        "outputId": "2d39cbe5-bfe4-42ee-a7f7-401799897443"
      },
      "execution_count": 4,
      "outputs": [
        {
          "output_type": "stream",
          "name": "stdout",
          "text": [
            "[[3 3 0 0 2 2]\n",
            " [3 3 0 0 2 0]\n",
            " [3 3 0 0 1 1]\n",
            " ...\n",
            " [1 1 3 2 0 1]\n",
            " [1 1 3 2 0 2]\n",
            " [1 1 3 2 0 0]]\n",
            "[2 2 2 ... 2 1 3]\n"
          ]
        }
      ]
    },
    {
      "cell_type": "code",
      "source": [
        "# Split Data to Train and Test\n",
        "X_train, X_test, y_train, y_test = train_test_split(X, Y, test_size=0.20)"
      ],
      "metadata": {
        "id": "JuldV2jzEbze"
      },
      "execution_count": 59,
      "outputs": []
    },
    {
      "cell_type": "code",
      "source": [
        "# Defining the decision tree algorithm\n",
        "\n",
        "dtree=DecisionTreeClassifier( criterion = \"gini\", splitter='random', max_depth=8)\n",
        "dtree.fit(X_train,y_train)\n",
        "\n",
        "print('Decision Tree Classifer Created')"
      ],
      "metadata": {
        "colab": {
          "base_uri": "https://localhost:8080/"
        },
        "id": "t8RuccCvDmt-",
        "outputId": "fa8b5335-27d0-4f4c-db97-c546996b407b"
      },
      "execution_count": 63,
      "outputs": [
        {
          "output_type": "stream",
          "name": "stdout",
          "text": [
            "Decision Tree Classifer Created\n"
          ]
        }
      ]
    },
    {
      "cell_type": "code",
      "source": [
        "# Predicting the values of test data\n",
        "y_pred = dtree.predict(X_test)"
      ],
      "metadata": {
        "id": "_zI-kyIMDtUa"
      },
      "execution_count": 64,
      "outputs": []
    },
    {
      "cell_type": "code",
      "source": [
        "#Import scikit-learn metrics module for accuracy calculation\n",
        "from sklearn import metrics\n",
        "# Model Accuracy, how often is the classifier correct?\n",
        "print(\"Accuracy:\",metrics.accuracy_score(y_test, y_pred))\n"
      ],
      "metadata": {
        "colab": {
          "base_uri": "https://localhost:8080/"
        },
        "id": "qnG0y77LDuyU",
        "outputId": "1db671c9-f62e-42b8-d6d7-4ccc4149be87"
      },
      "execution_count": 65,
      "outputs": [
        {
          "output_type": "stream",
          "name": "stdout",
          "text": [
            "Accuracy: 0.8583815028901735\n"
          ]
        }
      ]
    },
    {
      "cell_type": "code",
      "source": [
        "from sklearn import tree\n",
        "tree.plot_tree(dtree)"
      ],
      "metadata": {
        "colab": {
          "base_uri": "https://localhost:8080/",
          "height": 682
        },
        "id": "HkDkam-oKW0F",
        "outputId": "a7d66ec2-3bd4-4bce-8d31-e4bf77eae3e8"
      },
      "execution_count": 37,
      "outputs": [
        {
          "output_type": "execute_result",
          "data": {
            "text/plain": [
              "[Text(0.4375, 0.9166666666666666, 'X[3] <= 0.274\\nentropy = 1.198\\nsamples = 1295\\nvalue = [273, 53, 918, 51]'),\n",
              " Text(0.3875, 0.75, 'entropy = 0.0\\nsamples = 445\\nvalue = [0, 0, 445, 0]'),\n",
              " Text(0.4875, 0.75, 'X[5] <= 1.472\\nentropy = 1.49\\nsamples = 850\\nvalue = [273, 53, 473, 51]'),\n",
              " Text(0.25, 0.5833333333333334, 'X[5] <= 0.363\\nentropy = 1.445\\nsamples = 556\\nvalue = [143, 23, 339, 51]'),\n",
              " Text(0.2, 0.4166666666666667, 'X[0] <= 2.21\\nentropy = 1.716\\nsamples = 276\\nvalue = [143, 23, 59, 51]'),\n",
              " Text(0.1, 0.25, 'X[0] <= 0.343\\nentropy = 1.68\\nsamples = 209\\nvalue = [112, 23, 23, 51]'),\n",
              " Text(0.05, 0.08333333333333333, 'entropy = 0.83\\nsamples = 61\\nvalue = [45, 0, 16, 0]'),\n",
              " Text(0.15, 0.08333333333333333, 'entropy = 1.673\\nsamples = 148\\nvalue = [67, 23, 7, 51]'),\n",
              " Text(0.3, 0.25, 'X[1] <= 2.034\\nentropy = 0.996\\nsamples = 67\\nvalue = [31, 0, 36, 0]'),\n",
              " Text(0.25, 0.08333333333333333, 'entropy = 0.979\\nsamples = 53\\nvalue = [31, 0, 22, 0]'),\n",
              " Text(0.35, 0.08333333333333333, 'entropy = 0.0\\nsamples = 14\\nvalue = [0, 0, 14, 0]'),\n",
              " Text(0.3, 0.4166666666666667, 'entropy = 0.0\\nsamples = 280\\nvalue = [0, 0, 280, 0]'),\n",
              " Text(0.725, 0.5833333333333334, 'X[1] <= 2.201\\nentropy = 1.373\\nsamples = 294\\nvalue = [130, 30, 134, 0]'),\n",
              " Text(0.6, 0.4166666666666667, 'X[4] <= 0.2\\nentropy = 1.416\\nsamples = 220\\nvalue = [113, 30, 77, 0]'),\n",
              " Text(0.5, 0.25, 'X[0] <= 0.15\\nentropy = 1.267\\nsamples = 74\\nvalue = [47, 19, 8, 0]'),\n",
              " Text(0.45, 0.08333333333333333, 'entropy = 0.0\\nsamples = 18\\nvalue = [18, 0, 0, 0]'),\n",
              " Text(0.55, 0.08333333333333333, 'entropy = 1.422\\nsamples = 56\\nvalue = [29, 19, 8, 0]'),\n",
              " Text(0.7, 0.25, 'X[4] <= 1.749\\nentropy = 1.31\\nsamples = 146\\nvalue = [66, 11, 69, 0]'),\n",
              " Text(0.65, 0.08333333333333333, 'entropy = 1.416\\nsamples = 72\\nvalue = [39, 11, 22, 0]'),\n",
              " Text(0.75, 0.08333333333333333, 'entropy = 0.947\\nsamples = 74\\nvalue = [27, 0, 47, 0]'),\n",
              " Text(0.85, 0.4166666666666667, 'X[0] <= 0.591\\nentropy = 0.778\\nsamples = 74\\nvalue = [17, 0, 57, 0]'),\n",
              " Text(0.8, 0.25, 'entropy = 0.0\\nsamples = 18\\nvalue = [0, 0, 18, 0]'),\n",
              " Text(0.9, 0.25, 'X[0] <= 2.499\\nentropy = 0.886\\nsamples = 56\\nvalue = [17, 0, 39, 0]'),\n",
              " Text(0.85, 0.08333333333333333, 'entropy = 0.995\\nsamples = 37\\nvalue = [17, 0, 20, 0]'),\n",
              " Text(0.95, 0.08333333333333333, 'entropy = 0.0\\nsamples = 19\\nvalue = [0, 0, 19, 0]')]"
            ]
          },
          "metadata": {},
          "execution_count": 37
        },
        {
          "output_type": "display_data",
          "data": {
            "image/png": "[encoded data removed]",
            "text/plain": [
              "<Figure size 432x288 with 1 Axes>"
            ]
          },
          "metadata": {
            "needs_background": "light"
          }
        }
      ]
    },
    {
      "cell_type": "code",
      "source": [
        "import graphviz \n",
        "dot_data = tree.export_graphviz(dtree, out_file=None) \n",
        "graph = graphviz.Source(dot_data) \n",
        "graph.render(\"car\")\n",
        "dot_data = tree.export_graphviz(dtree, out_file=None, \n",
        "                      feature_names=[ 'buying','maint','doors','persons','lug_boot','safety'],  \n",
        "                      filled=True, rounded=True,  \n",
        "                      special_characters=True)  \n",
        "graph = graphviz.Source(dot_data)  \n",
        "graph "
      ],
      "metadata": {
        "colab": {
          "base_uri": "https://localhost:8080/",
          "height": 816
        },
        "id": "KZLfFmHaK1H_",
        "outputId": "65f0a412-a883-4474-fe63-4f5d0e472985"
      },
      "execution_count": 38,
      "outputs": [
        {
          "output_type": "execute_result",
          "data": {
            "text/plain": [
              "<graphviz.files.Source at 0x7f7e20bb1190>"
            ],
            "image/svg+xml": "<?xml version=\"1.0\" encoding=\"UTF-8\" standalone=\"no\"?>\n<!DOCTYPE svg PUBLIC \"-//W3C//DTD SVG 1.1//EN\"\n \"http://www.w3.org/Graphics/SVG/1.1/DTD/svg11.dtd\">\n<!-- Generated by graphviz version 2.40.1 (20161225.0304)\n -->\n<!-- Title: Tree Pages: 1 -->\n<svg width=\"1632pt\" height=\"581pt\"\n viewBox=\"0.00 0.00 1632.00 581.00\" xmlns=\"http://www.w3.org/2000/svg\" xmlns:xlink=\"http://www.w3.org/1999/xlink\">\n<g id=\"graph0\" class=\"graph\" transform=\"scale(1 1) rotate(0) translate(4 577)\">\n<title>Tree</title>\n<polygon fill=\"#ffffff\" stroke=\"transparent\" points=\"-4,4 -4,-577 1628,-577 1628,4 -4,4\"/>\n<!-- 0 -->\n<g id=\"node1\" class=\"node\">\n<title>0</title>\n<path fill=\"#82c1ef\" stroke=\"#000000\" d=\"M827.5,-573C827.5,-573 671.5,-573 671.5,-573 665.5,-573 659.5,-567 659.5,-561 659.5,-561 659.5,-517 659.5,-517 659.5,-511 665.5,-505 671.5,-505 671.5,-505 827.5,-505 827.5,-505 833.5,-505 839.5,-511 839.5,-517 839.5,-517 839.5,-561 839.5,-561 839.5,-567 833.5,-573 827.5,-573\"/>\n<text text-anchor=\"start\" x=\"697\" y=\"-557.8\" font-family=\"Helvetica,sans-Serif\" font-size=\"14.00\" fill=\"#000000\">persons ≤ 0.274</text>\n<text text-anchor=\"start\" x=\"698.5\" y=\"-542.8\" font-family=\"Helvetica,sans-Serif\" font-size=\"14.00\" fill=\"#000000\">entropy = 1.198</text>\n<text text-anchor=\"start\" x=\"697.5\" y=\"-527.8\" font-family=\"Helvetica,sans-Serif\" font-size=\"14.00\" fill=\"#000000\">samples = 1295</text>\n<text text-anchor=\"start\" x=\"667.5\" y=\"-512.8\" font-family=\"Helvetica,sans-Serif\" font-size=\"14.00\" fill=\"#000000\">value = [273, 53, 918, 51]</text>\n</g>\n<!-- 1 -->\n<g id=\"node2\" class=\"node\">\n<title>1</title>\n<path fill=\"#399de5\" stroke=\"#000000\" d=\"M720,-461.5C720,-461.5 597,-461.5 597,-461.5 591,-461.5 585,-455.5 585,-449.5 585,-449.5 585,-420.5 585,-420.5 585,-414.5 591,-408.5 597,-408.5 597,-408.5 720,-408.5 720,-408.5 726,-408.5 732,-414.5 732,-420.5 732,-420.5 732,-449.5 732,-449.5 732,-455.5 726,-461.5 720,-461.5\"/>\n<text text-anchor=\"start\" x=\"616\" y=\"-446.3\" font-family=\"Helvetica,sans-Serif\" font-size=\"14.00\" fill=\"#000000\">entropy = 0.0</text>\n<text text-anchor=\"start\" x=\"610.5\" y=\"-431.3\" font-family=\"Helvetica,sans-Serif\" font-size=\"14.00\" fill=\"#000000\">samples = 445</text>\n<text text-anchor=\"start\" x=\"593\" y=\"-416.3\" font-family=\"Helvetica,sans-Serif\" font-size=\"14.00\" fill=\"#000000\">value = [0, 0, 445, 0]</text>\n</g>\n<!-- 0&#45;&gt;1 -->\n<g id=\"edge1\" class=\"edge\">\n<title>0&#45;&gt;1</title>\n<path fill=\"none\" stroke=\"#000000\" d=\"M719.7032,-504.9465C709.6796,-493.491 698.4972,-480.711 688.461,-469.2412\"/>\n<polygon fill=\"#000000\" stroke=\"#000000\" points=\"690.9435,-466.7632 681.7244,-461.5422 685.6754,-471.3727 690.9435,-466.7632\"/>\n<text text-anchor=\"middle\" x=\"680.0614\" y=\"-482.7868\" font-family=\"Helvetica,sans-Serif\" font-size=\"14.00\" fill=\"#000000\">True</text>\n</g>\n<!-- 2 -->\n<g id=\"node3\" class=\"node\">\n<title>2</title>\n<path fill=\"#baddf6\" stroke=\"#000000\" d=\"M918.5,-469C918.5,-469 762.5,-469 762.5,-469 756.5,-469 750.5,-463 750.5,-457 750.5,-457 750.5,-413 750.5,-413 750.5,-407 756.5,-401 762.5,-401 762.5,-401 918.5,-401 918.5,-401 924.5,-401 930.5,-407 930.5,-413 930.5,-413 930.5,-457 930.5,-457 930.5,-463 924.5,-469 918.5,-469\"/>\n<text text-anchor=\"start\" x=\"795\" y=\"-453.8\" font-family=\"Helvetica,sans-Serif\" font-size=\"14.00\" fill=\"#000000\">safety ≤ 1.472</text>\n<text text-anchor=\"start\" x=\"793.5\" y=\"-438.8\" font-family=\"Helvetica,sans-Serif\" font-size=\"14.00\" fill=\"#000000\">entropy = 1.49</text>\n<text text-anchor=\"start\" x=\"792.5\" y=\"-423.8\" font-family=\"Helvetica,sans-Serif\" font-size=\"14.00\" fill=\"#000000\">samples = 850</text>\n<text text-anchor=\"start\" x=\"758.5\" y=\"-408.8\" font-family=\"Helvetica,sans-Serif\" font-size=\"14.00\" fill=\"#000000\">value = [273, 53, 473, 51]</text>\n</g>\n<!-- 0&#45;&gt;2 -->\n<g id=\"edge2\" class=\"edge\">\n<title>0&#45;&gt;2</title>\n<path fill=\"none\" stroke=\"#000000\" d=\"M779.2968,-504.9465C787.153,-495.968 795.7212,-486.1758 803.8913,-476.8385\"/>\n<polygon fill=\"#000000\" stroke=\"#000000\" points=\"806.6852,-478.9606 810.6363,-469.13 801.4171,-474.351 806.6852,-478.9606\"/>\n<text text-anchor=\"middle\" x=\"812.2992\" y=\"-490.3746\" font-family=\"Helvetica,sans-Serif\" font-size=\"14.00\" fill=\"#000000\">False</text>\n</g>\n<!-- 3 -->\n<g id=\"node4\" class=\"node\">\n<title>3</title>\n<path fill=\"#a1d0f3\" stroke=\"#000000\" d=\"M809.5,-365C809.5,-365 653.5,-365 653.5,-365 647.5,-365 641.5,-359 641.5,-353 641.5,-353 641.5,-309 641.5,-309 641.5,-303 647.5,-297 653.5,-297 653.5,-297 809.5,-297 809.5,-297 815.5,-297 821.5,-303 821.5,-309 821.5,-309 821.5,-353 821.5,-353 821.5,-359 815.5,-365 809.5,-365\"/>\n<text text-anchor=\"start\" x=\"686\" y=\"-349.8\" font-family=\"Helvetica,sans-Serif\" font-size=\"14.00\" fill=\"#000000\">safety ≤ 0.363</text>\n<text text-anchor=\"start\" x=\"680.5\" y=\"-334.8\" font-family=\"Helvetica,sans-Serif\" font-size=\"14.00\" fill=\"#000000\">entropy = 1.445</text>\n<text text-anchor=\"start\" x=\"683.5\" y=\"-319.8\" font-family=\"Helvetica,sans-Serif\" font-size=\"14.00\" fill=\"#000000\">samples = 556</text>\n<text text-anchor=\"start\" x=\"649.5\" y=\"-304.8\" font-family=\"Helvetica,sans-Serif\" font-size=\"14.00\" fill=\"#000000\">value = [143, 23, 339, 51]</text>\n</g>\n<!-- 2&#45;&gt;3 -->\n<g id=\"edge3\" class=\"edge\">\n<title>2&#45;&gt;3</title>\n<path fill=\"none\" stroke=\"#000000\" d=\"M804.8093,-400.9465C795.2109,-391.7884 784.7253,-381.7838 774.7634,-372.2788\"/>\n<polygon fill=\"#000000\" stroke=\"#000000\" points=\"776.9221,-369.5009 767.2709,-365.13 772.0898,-374.5655 776.9221,-369.5009\"/>\n</g>\n<!-- 12 -->\n<g id=\"node13\" class=\"node\">\n<title>12</title>\n<path fill=\"#fafdfe\" stroke=\"#000000\" d=\"M1100.5,-365C1100.5,-365 952.5,-365 952.5,-365 946.5,-365 940.5,-359 940.5,-353 940.5,-353 940.5,-309 940.5,-309 940.5,-303 946.5,-297 952.5,-297 952.5,-297 1100.5,-297 1100.5,-297 1106.5,-297 1112.5,-303 1112.5,-309 1112.5,-309 1112.5,-353 1112.5,-353 1112.5,-359 1106.5,-365 1100.5,-365\"/>\n<text text-anchor=\"start\" x=\"982.5\" y=\"-349.8\" font-family=\"Helvetica,sans-Serif\" font-size=\"14.00\" fill=\"#000000\">maint ≤ 2.201</text>\n<text text-anchor=\"start\" x=\"975.5\" y=\"-334.8\" font-family=\"Helvetica,sans-Serif\" font-size=\"14.00\" fill=\"#000000\">entropy = 1.373</text>\n<text text-anchor=\"start\" x=\"978.5\" y=\"-319.8\" font-family=\"Helvetica,sans-Serif\" font-size=\"14.00\" fill=\"#000000\">samples = 294</text>\n<text text-anchor=\"start\" x=\"948.5\" y=\"-304.8\" font-family=\"Helvetica,sans-Serif\" font-size=\"14.00\" fill=\"#000000\">value = [130, 30, 134, 0]</text>\n</g>\n<!-- 2&#45;&gt;12 -->\n<g id=\"edge12\" class=\"edge\">\n<title>2&#45;&gt;12</title>\n<path fill=\"none\" stroke=\"#000000\" d=\"M901.4034,-400.9465C919.0669,-391.0701 938.4911,-380.2093 956.6566,-370.0522\"/>\n<polygon fill=\"#000000\" stroke=\"#000000\" points=\"958.4397,-373.0653 965.4598,-365.13 955.0234,-366.9555 958.4397,-373.0653\"/>\n</g>\n<!-- 4 -->\n<g id=\"node5\" class=\"node\">\n<title>4</title>\n<path fill=\"#f5ceb2\" stroke=\"#000000\" d=\"M570.5,-261C570.5,-261 422.5,-261 422.5,-261 416.5,-261 410.5,-255 410.5,-249 410.5,-249 410.5,-205 410.5,-205 410.5,-199 416.5,-193 422.5,-193 422.5,-193 570.5,-193 570.5,-193 576.5,-193 582.5,-199 582.5,-205 582.5,-205 582.5,-249 582.5,-249 582.5,-255 576.5,-261 570.5,-261\"/>\n<text text-anchor=\"start\" x=\"452.5\" y=\"-245.8\" font-family=\"Helvetica,sans-Serif\" font-size=\"14.00\" fill=\"#000000\">buying ≤ 2.21</text>\n<text text-anchor=\"start\" x=\"445.5\" y=\"-230.8\" font-family=\"Helvetica,sans-Serif\" font-size=\"14.00\" fill=\"#000000\">entropy = 1.716</text>\n<text text-anchor=\"start\" x=\"448.5\" y=\"-215.8\" font-family=\"Helvetica,sans-Serif\" font-size=\"14.00\" fill=\"#000000\">samples = 276</text>\n<text text-anchor=\"start\" x=\"418.5\" y=\"-200.8\" font-family=\"Helvetica,sans-Serif\" font-size=\"14.00\" fill=\"#000000\">value = [143, 23, 59, 51]</text>\n</g>\n<!-- 3&#45;&gt;4 -->\n<g id=\"edge4\" class=\"edge\">\n<title>3&#45;&gt;4</title>\n<path fill=\"none\" stroke=\"#000000\" d=\"M654.5522,-296.9465C631.6267,-286.8008 606.3537,-275.6161 582.8688,-265.2228\"/>\n<polygon fill=\"#000000\" stroke=\"#000000\" points=\"584.1816,-261.9764 573.6207,-261.13 581.3487,-268.3776 584.1816,-261.9764\"/>\n</g>\n<!-- 11 -->\n<g id=\"node12\" class=\"node\">\n<title>11</title>\n<path fill=\"#399de5\" stroke=\"#000000\" d=\"M793,-253.5C793,-253.5 670,-253.5 670,-253.5 664,-253.5 658,-247.5 658,-241.5 658,-241.5 658,-212.5 658,-212.5 658,-206.5 664,-200.5 670,-200.5 670,-200.5 793,-200.5 793,-200.5 799,-200.5 805,-206.5 805,-212.5 805,-212.5 805,-241.5 805,-241.5 805,-247.5 799,-253.5 793,-253.5\"/>\n<text text-anchor=\"start\" x=\"689\" y=\"-238.3\" font-family=\"Helvetica,sans-Serif\" font-size=\"14.00\" fill=\"#000000\">entropy = 0.0</text>\n<text text-anchor=\"start\" x=\"683.5\" y=\"-223.3\" font-family=\"Helvetica,sans-Serif\" font-size=\"14.00\" fill=\"#000000\">samples = 280</text>\n<text text-anchor=\"start\" x=\"666\" y=\"-208.3\" font-family=\"Helvetica,sans-Serif\" font-size=\"14.00\" fill=\"#000000\">value = [0, 0, 280, 0]</text>\n</g>\n<!-- 3&#45;&gt;11 -->\n<g id=\"edge11\" class=\"edge\">\n<title>3&#45;&gt;11</title>\n<path fill=\"none\" stroke=\"#000000\" d=\"M731.5,-296.9465C731.5,-286.2621 731.5,-274.4254 731.5,-263.5742\"/>\n<polygon fill=\"#000000\" stroke=\"#000000\" points=\"735.0001,-263.5421 731.5,-253.5422 728.0001,-263.5422 735.0001,-263.5421\"/>\n</g>\n<!-- 5 -->\n<g id=\"node6\" class=\"node\">\n<title>5</title>\n<path fill=\"#f5ceb3\" stroke=\"#000000\" d=\"M316.5,-157C316.5,-157 168.5,-157 168.5,-157 162.5,-157 156.5,-151 156.5,-145 156.5,-145 156.5,-101 156.5,-101 156.5,-95 162.5,-89 168.5,-89 168.5,-89 316.5,-89 316.5,-89 322.5,-89 328.5,-95 328.5,-101 328.5,-101 328.5,-145 328.5,-145 328.5,-151 322.5,-157 316.5,-157\"/>\n<text text-anchor=\"start\" x=\"194.5\" y=\"-141.8\" font-family=\"Helvetica,sans-Serif\" font-size=\"14.00\" fill=\"#000000\">buying ≤ 0.343</text>\n<text text-anchor=\"start\" x=\"195.5\" y=\"-126.8\" font-family=\"Helvetica,sans-Serif\" font-size=\"14.00\" fill=\"#000000\">entropy = 1.68</text>\n<text text-anchor=\"start\" x=\"194.5\" y=\"-111.8\" font-family=\"Helvetica,sans-Serif\" font-size=\"14.00\" fill=\"#000000\">samples = 209</text>\n<text text-anchor=\"start\" x=\"164.5\" y=\"-96.8\" font-family=\"Helvetica,sans-Serif\" font-size=\"14.00\" fill=\"#000000\">value = [112, 23, 23, 51]</text>\n</g>\n<!-- 4&#45;&gt;5 -->\n<g id=\"edge5\" class=\"edge\">\n<title>4&#45;&gt;5</title>\n<path fill=\"none\" stroke=\"#000000\" d=\"M413.3309,-192.9465C388.3326,-182.711 360.7518,-171.4181 335.1784,-160.9471\"/>\n<polygon fill=\"#000000\" stroke=\"#000000\" points=\"336.4365,-157.6802 325.856,-157.13 333.784,-164.1582 336.4365,-157.6802\"/>\n</g>\n<!-- 8 -->\n<g id=\"node9\" class=\"node\">\n<title>8</title>\n<path fill=\"#e4f1fb\" stroke=\"#000000\" d=\"M558,-157C558,-157 435,-157 435,-157 429,-157 423,-151 423,-145 423,-145 423,-101 423,-101 423,-95 429,-89 435,-89 435,-89 558,-89 558,-89 564,-89 570,-95 570,-101 570,-101 570,-145 570,-145 570,-151 564,-157 558,-157\"/>\n<text text-anchor=\"start\" x=\"452.5\" y=\"-141.8\" font-family=\"Helvetica,sans-Serif\" font-size=\"14.00\" fill=\"#000000\">maint ≤ 2.034</text>\n<text text-anchor=\"start\" x=\"445.5\" y=\"-126.8\" font-family=\"Helvetica,sans-Serif\" font-size=\"14.00\" fill=\"#000000\">entropy = 0.996</text>\n<text text-anchor=\"start\" x=\"452.5\" y=\"-111.8\" font-family=\"Helvetica,sans-Serif\" font-size=\"14.00\" fill=\"#000000\">samples = 67</text>\n<text text-anchor=\"start\" x=\"431\" y=\"-96.8\" font-family=\"Helvetica,sans-Serif\" font-size=\"14.00\" fill=\"#000000\">value = [31, 0, 36, 0]</text>\n</g>\n<!-- 4&#45;&gt;8 -->\n<g id=\"edge8\" class=\"edge\">\n<title>4&#45;&gt;8</title>\n<path fill=\"none\" stroke=\"#000000\" d=\"M496.5,-192.9465C496.5,-184.776 496.5,-175.9318 496.5,-167.3697\"/>\n<polygon fill=\"#000000\" stroke=\"#000000\" points=\"500.0001,-167.13 496.5,-157.13 493.0001,-167.13 500.0001,-167.13\"/>\n</g>\n<!-- 6 -->\n<g id=\"node7\" class=\"node\">\n<title>6</title>\n<path fill=\"#eeae7f\" stroke=\"#000000\" d=\"M135,-53C135,-53 12,-53 12,-53 6,-53 0,-47 0,-41 0,-41 0,-12 0,-12 0,-6 6,0 12,0 12,0 135,0 135,0 141,0 147,-6 147,-12 147,-12 147,-41 147,-41 147,-47 141,-53 135,-53\"/>\n<text text-anchor=\"start\" x=\"26.5\" y=\"-37.8\" font-family=\"Helvetica,sans-Serif\" font-size=\"14.00\" fill=\"#000000\">entropy = 0.83</text>\n<text text-anchor=\"start\" x=\"29.5\" y=\"-22.8\" font-family=\"Helvetica,sans-Serif\" font-size=\"14.00\" fill=\"#000000\">samples = 61</text>\n<text text-anchor=\"start\" x=\"8\" y=\"-7.8\" font-family=\"Helvetica,sans-Serif\" font-size=\"14.00\" fill=\"#000000\">value = [45, 0, 16, 0]</text>\n</g>\n<!-- 5&#45;&gt;6 -->\n<g id=\"edge6\" class=\"edge\">\n<title>5&#45;&gt;6</title>\n<path fill=\"none\" stroke=\"#000000\" d=\"M182.9169,-88.9777C165.3561,-78.9504 146.2186,-68.0228 128.9299,-58.1508\"/>\n<polygon fill=\"#000000\" stroke=\"#000000\" points=\"130.4953,-55.0143 120.0757,-53.095 127.0242,-61.0931 130.4953,-55.0143\"/>\n</g>\n<!-- 7 -->\n<g id=\"node8\" class=\"node\">\n<title>7</title>\n<path fill=\"#fbeade\" stroke=\"#000000\" d=\"M308,-53C308,-53 177,-53 177,-53 171,-53 165,-47 165,-41 165,-41 165,-12 165,-12 165,-6 171,0 177,0 177,0 308,0 308,0 314,0 320,-6 320,-12 320,-12 320,-41 320,-41 320,-47 314,-53 308,-53\"/>\n<text text-anchor=\"start\" x=\"191.5\" y=\"-37.8\" font-family=\"Helvetica,sans-Serif\" font-size=\"14.00\" fill=\"#000000\">entropy = 1.673</text>\n<text text-anchor=\"start\" x=\"194.5\" y=\"-22.8\" font-family=\"Helvetica,sans-Serif\" font-size=\"14.00\" fill=\"#000000\">samples = 148</text>\n<text text-anchor=\"start\" x=\"173\" y=\"-7.8\" font-family=\"Helvetica,sans-Serif\" font-size=\"14.00\" fill=\"#000000\">value = [67, 23, 7, 51]</text>\n</g>\n<!-- 5&#45;&gt;7 -->\n<g id=\"edge7\" class=\"edge\">\n<title>5&#45;&gt;7</title>\n<path fill=\"none\" stroke=\"#000000\" d=\"M242.5,-88.9777C242.5,-80.7364 242.5,-71.887 242.5,-63.5153\"/>\n<polygon fill=\"#000000\" stroke=\"#000000\" points=\"246.0001,-63.2484 242.5,-53.2485 239.0001,-63.2485 246.0001,-63.2484\"/>\n</g>\n<!-- 9 -->\n<g id=\"node10\" class=\"node\">\n<title>9</title>\n<path fill=\"#f7dac6\" stroke=\"#000000\" d=\"M473,-53C473,-53 350,-53 350,-53 344,-53 338,-47 338,-41 338,-41 338,-12 338,-12 338,-6 344,0 350,0 350,0 473,0 473,0 479,0 485,-6 485,-12 485,-12 485,-41 485,-41 485,-47 479,-53 473,-53\"/>\n<text text-anchor=\"start\" x=\"360.5\" y=\"-37.8\" font-family=\"Helvetica,sans-Serif\" font-size=\"14.00\" fill=\"#000000\">entropy = 0.979</text>\n<text text-anchor=\"start\" x=\"367.5\" y=\"-22.8\" font-family=\"Helvetica,sans-Serif\" font-size=\"14.00\" fill=\"#000000\">samples = 53</text>\n<text text-anchor=\"start\" x=\"346\" y=\"-7.8\" font-family=\"Helvetica,sans-Serif\" font-size=\"14.00\" fill=\"#000000\">value = [31, 0, 22, 0]</text>\n</g>\n<!-- 8&#45;&gt;9 -->\n<g id=\"edge9\" class=\"edge\">\n<title>8&#45;&gt;9</title>\n<path fill=\"none\" stroke=\"#000000\" d=\"M466.5322,-88.9777C458.5471,-79.9123 449.9138,-70.111 441.9056,-61.0192\"/>\n<polygon fill=\"#000000\" stroke=\"#000000\" points=\"444.2971,-58.4391 435.0608,-53.2485 439.0442,-63.066 444.2971,-58.4391\"/>\n</g>\n<!-- 10 -->\n<g id=\"node11\" class=\"node\">\n<title>10</title>\n<path fill=\"#399de5\" stroke=\"#000000\" d=\"M630,-53C630,-53 515,-53 515,-53 509,-53 503,-47 503,-41 503,-41 503,-12 503,-12 503,-6 509,0 515,0 515,0 630,0 630,0 636,0 642,-6 642,-12 642,-12 642,-41 642,-41 642,-47 636,-53 630,-53\"/>\n<text text-anchor=\"start\" x=\"530\" y=\"-37.8\" font-family=\"Helvetica,sans-Serif\" font-size=\"14.00\" fill=\"#000000\">entropy = 0.0</text>\n<text text-anchor=\"start\" x=\"528.5\" y=\"-22.8\" font-family=\"Helvetica,sans-Serif\" font-size=\"14.00\" fill=\"#000000\">samples = 14</text>\n<text text-anchor=\"start\" x=\"511\" y=\"-7.8\" font-family=\"Helvetica,sans-Serif\" font-size=\"14.00\" fill=\"#000000\">value = [0, 0, 14, 0]</text>\n</g>\n<!-- 8&#45;&gt;10 -->\n<g id=\"edge10\" class=\"edge\">\n<title>8&#45;&gt;10</title>\n<path fill=\"none\" stroke=\"#000000\" d=\"M523.2948,-88.9777C530.3622,-80.0039 537.9976,-70.3089 545.0967,-61.295\"/>\n<polygon fill=\"#000000\" stroke=\"#000000\" points=\"547.9963,-63.2701 551.4338,-53.2485 542.497,-58.9391 547.9963,-63.2701\"/>\n</g>\n<!-- 13 -->\n<g id=\"node14\" class=\"node\">\n<title>13</title>\n<path fill=\"#f8dfcd\" stroke=\"#000000\" d=\"M1096.5,-261C1096.5,-261 956.5,-261 956.5,-261 950.5,-261 944.5,-255 944.5,-249 944.5,-249 944.5,-205 944.5,-205 944.5,-199 950.5,-193 956.5,-193 956.5,-193 1096.5,-193 1096.5,-193 1102.5,-193 1108.5,-199 1108.5,-205 1108.5,-205 1108.5,-249 1108.5,-249 1108.5,-255 1102.5,-261 1096.5,-261\"/>\n<text text-anchor=\"start\" x=\"980.5\" y=\"-245.8\" font-family=\"Helvetica,sans-Serif\" font-size=\"14.00\" fill=\"#000000\">lug_boot ≤ 0.2</text>\n<text text-anchor=\"start\" x=\"975.5\" y=\"-230.8\" font-family=\"Helvetica,sans-Serif\" font-size=\"14.00\" fill=\"#000000\">entropy = 1.416</text>\n<text text-anchor=\"start\" x=\"978.5\" y=\"-215.8\" font-family=\"Helvetica,sans-Serif\" font-size=\"14.00\" fill=\"#000000\">samples = 220</text>\n<text text-anchor=\"start\" x=\"952.5\" y=\"-200.8\" font-family=\"Helvetica,sans-Serif\" font-size=\"14.00\" fill=\"#000000\">value = [113, 30, 77, 0]</text>\n</g>\n<!-- 12&#45;&gt;13 -->\n<g id=\"edge13\" class=\"edge\">\n<title>12&#45;&gt;13</title>\n<path fill=\"none\" stroke=\"#000000\" d=\"M1026.5,-296.9465C1026.5,-288.776 1026.5,-279.9318 1026.5,-271.3697\"/>\n<polygon fill=\"#000000\" stroke=\"#000000\" points=\"1030.0001,-271.13 1026.5,-261.13 1023.0001,-271.13 1030.0001,-271.13\"/>\n</g>\n<!-- 20 -->\n<g id=\"node21\" class=\"node\">\n<title>20</title>\n<path fill=\"#74baed\" stroke=\"#000000\" d=\"M1290,-261C1290,-261 1167,-261 1167,-261 1161,-261 1155,-255 1155,-249 1155,-249 1155,-205 1155,-205 1155,-199 1161,-193 1167,-193 1167,-193 1290,-193 1290,-193 1296,-193 1302,-199 1302,-205 1302,-205 1302,-249 1302,-249 1302,-255 1296,-261 1290,-261\"/>\n<text text-anchor=\"start\" x=\"1180.5\" y=\"-245.8\" font-family=\"Helvetica,sans-Serif\" font-size=\"14.00\" fill=\"#000000\">buying ≤ 0.591</text>\n<text text-anchor=\"start\" x=\"1177.5\" y=\"-230.8\" font-family=\"Helvetica,sans-Serif\" font-size=\"14.00\" fill=\"#000000\">entropy = 0.778</text>\n<text text-anchor=\"start\" x=\"1184.5\" y=\"-215.8\" font-family=\"Helvetica,sans-Serif\" font-size=\"14.00\" fill=\"#000000\">samples = 74</text>\n<text text-anchor=\"start\" x=\"1163\" y=\"-200.8\" font-family=\"Helvetica,sans-Serif\" font-size=\"14.00\" fill=\"#000000\">value = [17, 0, 57, 0]</text>\n</g>\n<!-- 12&#45;&gt;20 -->\n<g id=\"edge20\" class=\"edge\">\n<title>12&#45;&gt;20</title>\n<path fill=\"none\" stroke=\"#000000\" d=\"M1092.6424,-296.9465C1111.9997,-286.9803 1133.3042,-276.0117 1153.1862,-265.7754\"/>\n<polygon fill=\"#000000\" stroke=\"#000000\" points=\"1154.9203,-268.8193 1162.209,-261.13 1151.7161,-262.5957 1154.9203,-268.8193\"/>\n</g>\n<!-- 14 -->\n<g id=\"node15\" class=\"node\">\n<title>14</title>\n<path fill=\"#f2bf9a\" stroke=\"#000000\" d=\"M952,-157C952,-157 829,-157 829,-157 823,-157 817,-151 817,-145 817,-145 817,-101 817,-101 817,-95 823,-89 829,-89 829,-89 952,-89 952,-89 958,-89 964,-95 964,-101 964,-101 964,-145 964,-145 964,-151 958,-157 952,-157\"/>\n<text text-anchor=\"start\" x=\"846.5\" y=\"-141.8\" font-family=\"Helvetica,sans-Serif\" font-size=\"14.00\" fill=\"#000000\">buying ≤ 0.15</text>\n<text text-anchor=\"start\" x=\"839.5\" y=\"-126.8\" font-family=\"Helvetica,sans-Serif\" font-size=\"14.00\" fill=\"#000000\">entropy = 1.267</text>\n<text text-anchor=\"start\" x=\"846.5\" y=\"-111.8\" font-family=\"Helvetica,sans-Serif\" font-size=\"14.00\" fill=\"#000000\">samples = 74</text>\n<text text-anchor=\"start\" x=\"825\" y=\"-96.8\" font-family=\"Helvetica,sans-Serif\" font-size=\"14.00\" fill=\"#000000\">value = [47, 19, 8, 0]</text>\n</g>\n<!-- 13&#45;&gt;14 -->\n<g id=\"edge14\" class=\"edge\">\n<title>13&#45;&gt;14</title>\n<path fill=\"none\" stroke=\"#000000\" d=\"M981.9685,-192.9465C969.6403,-183.519 956.1391,-173.1946 943.385,-163.4415\"/>\n<polygon fill=\"#000000\" stroke=\"#000000\" points=\"945.2012,-160.4243 935.1315,-157.13 940.949,-165.9848 945.2012,-160.4243\"/>\n</g>\n<!-- 17 -->\n<g id=\"node18\" class=\"node\">\n<title>17</title>\n<path fill=\"#f8fbfe\" stroke=\"#000000\" d=\"M1125,-157C1125,-157 994,-157 994,-157 988,-157 982,-151 982,-145 982,-145 982,-101 982,-101 982,-95 988,-89 994,-89 994,-89 1125,-89 1125,-89 1131,-89 1137,-95 1137,-101 1137,-101 1137,-145 1137,-145 1137,-151 1131,-157 1125,-157\"/>\n<text text-anchor=\"start\" x=\"1005\" y=\"-141.8\" font-family=\"Helvetica,sans-Serif\" font-size=\"14.00\" fill=\"#000000\">lug_boot ≤ 1.749</text>\n<text text-anchor=\"start\" x=\"1012.5\" y=\"-126.8\" font-family=\"Helvetica,sans-Serif\" font-size=\"14.00\" fill=\"#000000\">entropy = 1.31</text>\n<text text-anchor=\"start\" x=\"1011.5\" y=\"-111.8\" font-family=\"Helvetica,sans-Serif\" font-size=\"14.00\" fill=\"#000000\">samples = 146</text>\n<text text-anchor=\"start\" x=\"990\" y=\"-96.8\" font-family=\"Helvetica,sans-Serif\" font-size=\"14.00\" fill=\"#000000\">value = [66, 11, 69, 0]</text>\n</g>\n<!-- 13&#45;&gt;17 -->\n<g id=\"edge17\" class=\"edge\">\n<title>13&#45;&gt;17</title>\n<path fill=\"none\" stroke=\"#000000\" d=\"M1037.3054,-192.9465C1039.955,-184.5965 1042.8278,-175.5427 1045.6001,-166.8056\"/>\n<polygon fill=\"#000000\" stroke=\"#000000\" points=\"1048.9818,-167.7203 1048.6703,-157.13 1042.3097,-165.6031 1048.9818,-167.7203\"/>\n</g>\n<!-- 15 -->\n<g id=\"node16\" class=\"node\">\n<title>15</title>\n<path fill=\"#e58139\" stroke=\"#000000\" d=\"M787,-53C787,-53 672,-53 672,-53 666,-53 660,-47 660,-41 660,-41 660,-12 660,-12 660,-6 666,0 672,0 672,0 787,0 787,0 793,0 799,-6 799,-12 799,-12 799,-41 799,-41 799,-47 793,-53 787,-53\"/>\n<text text-anchor=\"start\" x=\"687\" y=\"-37.8\" font-family=\"Helvetica,sans-Serif\" font-size=\"14.00\" fill=\"#000000\">entropy = 0.0</text>\n<text text-anchor=\"start\" x=\"685.5\" y=\"-22.8\" font-family=\"Helvetica,sans-Serif\" font-size=\"14.00\" fill=\"#000000\">samples = 18</text>\n<text text-anchor=\"start\" x=\"668\" y=\"-7.8\" font-family=\"Helvetica,sans-Serif\" font-size=\"14.00\" fill=\"#000000\">value = [18, 0, 0, 0]</text>\n</g>\n<!-- 14&#45;&gt;15 -->\n<g id=\"edge15\" class=\"edge\">\n<title>14&#45;&gt;15</title>\n<path fill=\"none\" stroke=\"#000000\" d=\"M833.7374,-88.9777C817.1614,-79.0424 799.1107,-68.2232 782.7598,-58.4228\"/>\n<polygon fill=\"#000000\" stroke=\"#000000\" points=\"784.2477,-55.2341 773.871,-53.095 780.6489,-61.2382 784.2477,-55.2341\"/>\n</g>\n<!-- 16 -->\n<g id=\"node17\" class=\"node\">\n<title>16</title>\n<path fill=\"#f8ddc9\" stroke=\"#000000\" d=\"M952,-53C952,-53 829,-53 829,-53 823,-53 817,-47 817,-41 817,-41 817,-12 817,-12 817,-6 823,0 829,0 829,0 952,0 952,0 958,0 964,-6 964,-12 964,-12 964,-41 964,-41 964,-47 958,-53 952,-53\"/>\n<text text-anchor=\"start\" x=\"839.5\" y=\"-37.8\" font-family=\"Helvetica,sans-Serif\" font-size=\"14.00\" fill=\"#000000\">entropy = 1.422</text>\n<text text-anchor=\"start\" x=\"846.5\" y=\"-22.8\" font-family=\"Helvetica,sans-Serif\" font-size=\"14.00\" fill=\"#000000\">samples = 56</text>\n<text text-anchor=\"start\" x=\"825\" y=\"-7.8\" font-family=\"Helvetica,sans-Serif\" font-size=\"14.00\" fill=\"#000000\">value = [29, 19, 8, 0]</text>\n</g>\n<!-- 14&#45;&gt;16 -->\n<g id=\"edge16\" class=\"edge\">\n<title>14&#45;&gt;16</title>\n<path fill=\"none\" stroke=\"#000000\" d=\"M890.5,-88.9777C890.5,-80.7364 890.5,-71.887 890.5,-63.5153\"/>\n<polygon fill=\"#000000\" stroke=\"#000000\" points=\"894.0001,-63.2484 890.5,-53.2485 887.0001,-63.2485 894.0001,-63.2484\"/>\n</g>\n<!-- 18 -->\n<g id=\"node19\" class=\"node\">\n<title>18</title>\n<path fill=\"#f6d4bc\" stroke=\"#000000\" d=\"M1125,-53C1125,-53 994,-53 994,-53 988,-53 982,-47 982,-41 982,-41 982,-12 982,-12 982,-6 988,0 994,0 994,0 1125,0 1125,0 1131,0 1137,-6 1137,-12 1137,-12 1137,-41 1137,-41 1137,-47 1131,-53 1125,-53\"/>\n<text text-anchor=\"start\" x=\"1008.5\" y=\"-37.8\" font-family=\"Helvetica,sans-Serif\" font-size=\"14.00\" fill=\"#000000\">entropy = 1.416</text>\n<text text-anchor=\"start\" x=\"1015.5\" y=\"-22.8\" font-family=\"Helvetica,sans-Serif\" font-size=\"14.00\" fill=\"#000000\">samples = 72</text>\n<text text-anchor=\"start\" x=\"990\" y=\"-7.8\" font-family=\"Helvetica,sans-Serif\" font-size=\"14.00\" fill=\"#000000\">value = [39, 11, 22, 0]</text>\n</g>\n<!-- 17&#45;&gt;18 -->\n<g id=\"edge18\" class=\"edge\">\n<title>17&#45;&gt;18</title>\n<path fill=\"none\" stroke=\"#000000\" d=\"M1059.5,-88.9777C1059.5,-80.7364 1059.5,-71.887 1059.5,-63.5153\"/>\n<polygon fill=\"#000000\" stroke=\"#000000\" points=\"1063.0001,-63.2484 1059.5,-53.2485 1056.0001,-63.2485 1063.0001,-63.2484\"/>\n</g>\n<!-- 19 -->\n<g id=\"node20\" class=\"node\">\n<title>19</title>\n<path fill=\"#abd5f4\" stroke=\"#000000\" d=\"M1290,-53C1290,-53 1167,-53 1167,-53 1161,-53 1155,-47 1155,-41 1155,-41 1155,-12 1155,-12 1155,-6 1161,0 1167,0 1167,0 1290,0 1290,0 1296,0 1302,-6 1302,-12 1302,-12 1302,-41 1302,-41 1302,-47 1296,-53 1290,-53\"/>\n<text text-anchor=\"start\" x=\"1177.5\" y=\"-37.8\" font-family=\"Helvetica,sans-Serif\" font-size=\"14.00\" fill=\"#000000\">entropy = 0.947</text>\n<text text-anchor=\"start\" x=\"1184.5\" y=\"-22.8\" font-family=\"Helvetica,sans-Serif\" font-size=\"14.00\" fill=\"#000000\">samples = 74</text>\n<text text-anchor=\"start\" x=\"1163\" y=\"-7.8\" font-family=\"Helvetica,sans-Serif\" font-size=\"14.00\" fill=\"#000000\">value = [27, 0, 47, 0]</text>\n</g>\n<!-- 17&#45;&gt;19 -->\n<g id=\"edge19\" class=\"edge\">\n<title>17&#45;&gt;19</title>\n<path fill=\"none\" stroke=\"#000000\" d=\"M1119.0831,-88.9777C1136.6439,-78.9504 1155.7814,-68.0228 1173.0701,-58.1508\"/>\n<polygon fill=\"#000000\" stroke=\"#000000\" points=\"1174.9758,-61.0931 1181.9243,-53.095 1171.5047,-55.0143 1174.9758,-61.0931\"/>\n</g>\n<!-- 21 -->\n<g id=\"node22\" class=\"node\">\n<title>21</title>\n<path fill=\"#399de5\" stroke=\"#000000\" d=\"M1286,-149.5C1286,-149.5 1171,-149.5 1171,-149.5 1165,-149.5 1159,-143.5 1159,-137.5 1159,-137.5 1159,-108.5 1159,-108.5 1159,-102.5 1165,-96.5 1171,-96.5 1171,-96.5 1286,-96.5 1286,-96.5 1292,-96.5 1298,-102.5 1298,-108.5 1298,-108.5 1298,-137.5 1298,-137.5 1298,-143.5 1292,-149.5 1286,-149.5\"/>\n<text text-anchor=\"start\" x=\"1186\" y=\"-134.3\" font-family=\"Helvetica,sans-Serif\" font-size=\"14.00\" fill=\"#000000\">entropy = 0.0</text>\n<text text-anchor=\"start\" x=\"1184.5\" y=\"-119.3\" font-family=\"Helvetica,sans-Serif\" font-size=\"14.00\" fill=\"#000000\">samples = 18</text>\n<text text-anchor=\"start\" x=\"1167\" y=\"-104.3\" font-family=\"Helvetica,sans-Serif\" font-size=\"14.00\" fill=\"#000000\">value = [0, 0, 18, 0]</text>\n</g>\n<!-- 20&#45;&gt;21 -->\n<g id=\"edge21\" class=\"edge\">\n<title>20&#45;&gt;21</title>\n<path fill=\"none\" stroke=\"#000000\" d=\"M1228.5,-192.9465C1228.5,-182.2621 1228.5,-170.4254 1228.5,-159.5742\"/>\n<polygon fill=\"#000000\" stroke=\"#000000\" points=\"1232.0001,-159.5421 1228.5,-149.5422 1225.0001,-159.5422 1232.0001,-159.5421\"/>\n</g>\n<!-- 22 -->\n<g id=\"node23\" class=\"node\">\n<title>22</title>\n<path fill=\"#8fc8f0\" stroke=\"#000000\" d=\"M1455,-157C1455,-157 1332,-157 1332,-157 1326,-157 1320,-151 1320,-145 1320,-145 1320,-101 1320,-101 1320,-95 1326,-89 1332,-89 1332,-89 1455,-89 1455,-89 1461,-89 1467,-95 1467,-101 1467,-101 1467,-145 1467,-145 1467,-151 1461,-157 1455,-157\"/>\n<text text-anchor=\"start\" x=\"1345.5\" y=\"-141.8\" font-family=\"Helvetica,sans-Serif\" font-size=\"14.00\" fill=\"#000000\">buying ≤ 2.499</text>\n<text text-anchor=\"start\" x=\"1342.5\" y=\"-126.8\" font-family=\"Helvetica,sans-Serif\" font-size=\"14.00\" fill=\"#000000\">entropy = 0.886</text>\n<text text-anchor=\"start\" x=\"1349.5\" y=\"-111.8\" font-family=\"Helvetica,sans-Serif\" font-size=\"14.00\" fill=\"#000000\">samples = 56</text>\n<text text-anchor=\"start\" x=\"1328\" y=\"-96.8\" font-family=\"Helvetica,sans-Serif\" font-size=\"14.00\" fill=\"#000000\">value = [17, 0, 39, 0]</text>\n</g>\n<!-- 20&#45;&gt;22 -->\n<g id=\"edge22\" class=\"edge\">\n<title>20&#45;&gt;22</title>\n<path fill=\"none\" stroke=\"#000000\" d=\"M1282.5272,-192.9465C1297.9115,-183.2497 1314.8016,-172.6039 1330.6621,-162.6069\"/>\n<polygon fill=\"#000000\" stroke=\"#000000\" points=\"1332.758,-165.4232 1339.3514,-157.13 1329.0254,-159.5013 1332.758,-165.4232\"/>\n</g>\n<!-- 23 -->\n<g id=\"node24\" class=\"node\">\n<title>23</title>\n<path fill=\"#e1f0fb\" stroke=\"#000000\" d=\"M1455,-53C1455,-53 1332,-53 1332,-53 1326,-53 1320,-47 1320,-41 1320,-41 1320,-12 1320,-12 1320,-6 1326,0 1332,0 1332,0 1455,0 1455,0 1461,0 1467,-6 1467,-12 1467,-12 1467,-41 1467,-41 1467,-47 1461,-53 1455,-53\"/>\n<text text-anchor=\"start\" x=\"1342.5\" y=\"-37.8\" font-family=\"Helvetica,sans-Serif\" font-size=\"14.00\" fill=\"#000000\">entropy = 0.995</text>\n<text text-anchor=\"start\" x=\"1349.5\" y=\"-22.8\" font-family=\"Helvetica,sans-Serif\" font-size=\"14.00\" fill=\"#000000\">samples = 37</text>\n<text text-anchor=\"start\" x=\"1328\" y=\"-7.8\" font-family=\"Helvetica,sans-Serif\" font-size=\"14.00\" fill=\"#000000\">value = [17, 0, 20, 0]</text>\n</g>\n<!-- 22&#45;&gt;23 -->\n<g id=\"edge23\" class=\"edge\">\n<title>22&#45;&gt;23</title>\n<path fill=\"none\" stroke=\"#000000\" d=\"M1393.5,-88.9777C1393.5,-80.7364 1393.5,-71.887 1393.5,-63.5153\"/>\n<polygon fill=\"#000000\" stroke=\"#000000\" points=\"1397.0001,-63.2484 1393.5,-53.2485 1390.0001,-63.2485 1397.0001,-63.2484\"/>\n</g>\n<!-- 24 -->\n<g id=\"node25\" class=\"node\">\n<title>24</title>\n<path fill=\"#399de5\" stroke=\"#000000\" d=\"M1612,-53C1612,-53 1497,-53 1497,-53 1491,-53 1485,-47 1485,-41 1485,-41 1485,-12 1485,-12 1485,-6 1491,0 1497,0 1497,0 1612,0 1612,0 1618,0 1624,-6 1624,-12 1624,-12 1624,-41 1624,-41 1624,-47 1618,-53 1612,-53\"/>\n<text text-anchor=\"start\" x=\"1512\" y=\"-37.8\" font-family=\"Helvetica,sans-Serif\" font-size=\"14.00\" fill=\"#000000\">entropy = 0.0</text>\n<text text-anchor=\"start\" x=\"1510.5\" y=\"-22.8\" font-family=\"Helvetica,sans-Serif\" font-size=\"14.00\" fill=\"#000000\">samples = 19</text>\n<text text-anchor=\"start\" x=\"1493\" y=\"-7.8\" font-family=\"Helvetica,sans-Serif\" font-size=\"14.00\" fill=\"#000000\">value = [0, 0, 19, 0]</text>\n</g>\n<!-- 22&#45;&gt;24 -->\n<g id=\"edge24\" class=\"edge\">\n<title>22&#45;&gt;24</title>\n<path fill=\"none\" stroke=\"#000000\" d=\"M1450.2626,-88.9777C1466.8386,-79.0424 1484.8893,-68.2232 1501.2402,-58.4228\"/>\n<polygon fill=\"#000000\" stroke=\"#000000\" points=\"1503.3511,-61.2382 1510.129,-53.095 1499.7523,-55.2341 1503.3511,-61.2382\"/>\n</g>\n</g>\n</svg>\n"
          },
          "metadata": {},
          "execution_count": 38
        }
      ]
    }
  ]
}